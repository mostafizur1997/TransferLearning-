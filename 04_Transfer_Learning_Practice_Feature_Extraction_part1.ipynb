{
  "nbformat": 4,
  "nbformat_minor": 0,
  "metadata": {
    "colab": {
      "private_outputs": true,
      "provenance": [],
      "authorship_tag": "ABX9TyPDx2HKvQkGMjzvSQ3pydQ/",
      "include_colab_link": true
    },
    "kernelspec": {
      "name": "python3",
      "display_name": "Python 3"
    },
    "language_info": {
      "name": "python"
    },
    "gpuClass": "standard"
  },
  "cells": [
    {
      "cell_type": "markdown",
      "metadata": {
        "id": "view-in-github",
        "colab_type": "text"
      },
      "source": [
        "<a href=\"https://colab.research.google.com/github/mostafizur1997/TransferLearning-/blob/main/04_Transfer_Learning_Practice_Feature_Extraction_part1.ipynb\" target=\"_parent\"><img src=\"https://colab.research.google.com/assets/colab-badge.svg\" alt=\"Open In Colab\"/></a>"
      ]
    },
    {
      "cell_type": "markdown",
      "source": [
        "#There are two main benefits to using transfer leanring:"
      ],
      "metadata": {
        "id": "T5cw20PhE8KE"
      }
    },
    {
      "cell_type": "code",
      "source": [
        "#!pip install --upgrade tensorflow"
      ],
      "metadata": {
        "id": "zLRrgPg_fNAn"
      },
      "execution_count": null,
      "outputs": []
    },
    {
      "cell_type": "code",
      "source": [
        "import tensorflow as tf\n",
        "tf.__version__"
      ],
      "metadata": {
        "id": "GqU8zN0seLUB"
      },
      "execution_count": null,
      "outputs": []
    },
    {
      "cell_type": "code",
      "execution_count": null,
      "metadata": {
        "id": "J1xFafAlEwni"
      },
      "outputs": [],
      "source": [
        "#Using the GPU\n",
        "!nvidia-smi"
      ]
    },
    {
      "cell_type": "markdown",
      "source": [
        "###What we are going to cover:\n",
        "* introduce transfer learning\n",
        "* Using a smaller dataset to experiment faster (10% of training samples of 10 classes of food)\n",
        "* Build a transfer learning feature extraction model using Tensorflow hub\n",
        "* introduce the tensorflow callback to track model training results\n",
        "* compare model results using TensorBoard\n"
      ],
      "metadata": {
        "id": "hWHVloSDQEhg"
      }
    },
    {
      "cell_type": "markdown",
      "source": [
        "## Downloading and becoming one with the data"
      ],
      "metadata": {
        "id": "izJSuZX5aKPg"
      }
    },
    {
      "cell_type": "code",
      "source": [
        "# Get data (10% of 10 food classes from Food100)\n",
        "import zipfile"
      ],
      "metadata": {
        "id": "T7ksBwwsPD4d"
      },
      "execution_count": null,
      "outputs": []
    },
    {
      "cell_type": "code",
      "source": [
        "#download the dataset\n",
        "!wget https://storage.googleapis.com/ztm_tf_course/food_vision/10_food_classes_10_percent.zip"
      ],
      "metadata": {
        "id": "lqy0XIQDafsk"
      },
      "execution_count": null,
      "outputs": []
    },
    {
      "cell_type": "code",
      "source": [
        "zipref = zipfile.ZipFile(\"10_food_classes_10_percent.zip\")\n",
        "zipref.extractall()\n",
        "zipref.close()"
      ],
      "metadata": {
        "id": "l_zFSJwRbIvU"
      },
      "execution_count": null,
      "outputs": []
    },
    {
      "cell_type": "code",
      "source": [
        "#How many images in each folder?\n",
        "import os\n",
        "#walk through 10 percent data directory and list number of files\n",
        "for dirpath, dirnames, filenames in os.walk(\"10_food_classes_10_percent\"):\n",
        "  print(f\"There are {len(dirnames)} directories{len(filenames)} images in '{dirpath}'\")"
      ],
      "metadata": {
        "id": "_YZKvearbKpW"
      },
      "execution_count": null,
      "outputs": []
    },
    {
      "cell_type": "markdown",
      "source": [
        "###Creating data Loders"
      ],
      "metadata": {
        "id": "z8aYo7KWn3_A"
      }
    },
    {
      "cell_type": "code",
      "source": [
        "#Setup data inputs\n",
        "from tensorflow.keras.preprocessing.image import ImageDataGenerator"
      ],
      "metadata": {
        "id": "LgyoJZ5KmKUl"
      },
      "execution_count": null,
      "outputs": []
    },
    {
      "cell_type": "code",
      "source": [
        "IMAGE_SHAPE =(224,224)\n",
        "Batch_size = 32\n",
        "\n",
        "train_dir=\"10_food_classes_10_percent/train/\"\n",
        "test_dir =\"10_food_classes_10_percent/test/\"\n",
        "\n",
        "train_datagen =ImageDataGenerator(rescale=1/255.)\n",
        "test_datagen =ImageDataGenerator(rescale= 1/255.)\n",
        "\n",
        "print(\"Training image\")\n",
        "train_data_10_percent = train_datagen.flow_from_directory(train_dir, \n",
        "                                                          target_size =IMAGE_SHAPE,\n",
        "                                                          batch_size=Batch_size,\n",
        "                                                          class_mode =\"categorical\")\n",
        "\n",
        "print(\"Test Images:\")\n",
        "test_data_10_percent= test_datagen.flow_from_directory(test_dir, \n",
        "                                                       target_size=IMAGE_SHAPE,\n",
        "                                                       batch_size= Batch_size,\n",
        "                                                       class_mode=\"categorical\")\n",
        "\n",
        "\n"
      ],
      "metadata": {
        "id": "F6MMKPwjnyX8"
      },
      "execution_count": null,
      "outputs": []
    },
    {
      "cell_type": "markdown",
      "source": [
        "###Setting up callbacks(things to run whilst our model trains)"
      ],
      "metadata": {
        "id": "btf7DDNu5i0x"
      }
    },
    {
      "cell_type": "code",
      "source": [
        "import datetime\n",
        "def create_tensorboard_callback(dir_name, experiment_name):\n",
        "  log_dir =dir_name + \"/\" + experiment_name +\"/\" + datetime.datetime.now().strftime(\"%Y%m%d-%H%M%S\")\n",
        "  tensorboard_callback = tf.keras.callbacks.TensorBoard(log_dir=log_dir)\n",
        "  print(f\"Saving Tensorboard log files to:{log_dir}\")\n",
        "  return tensorboard_callback\n"
      ],
      "metadata": {
        "id": "Vy3t8qvn-FTw"
      },
      "execution_count": null,
      "outputs": []
    },
    {
      "cell_type": "markdown",
      "source": [
        "##Creating models using tensorflow hub"
      ],
      "metadata": {
        "id": "rPTW2XXqt2Gk"
      }
    },
    {
      "cell_type": "code",
      "source": [],
      "metadata": {
        "id": "t5OC4wMVAsFe"
      },
      "execution_count": null,
      "outputs": []
    }
  ]
}